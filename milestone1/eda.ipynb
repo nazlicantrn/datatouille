{
 "cells": [
  {
   "cell_type": "markdown",
   "metadata": {},
   "source": [
    "# Data Visualization Milestone 1 EDA Notebook"
   ]
  },
  {
   "cell_type": "code",
   "execution_count": 1,
   "metadata": {},
   "outputs": [
    {
     "name": "stdout",
     "output_type": "stream",
     "text": [
      "22-Mar-2024 Fri Notebook\n",
      "Lausanne Time :  20:40:02\n"
     ]
    }
   ],
   "source": [
    "import pandas as pd\n",
    "import numpy as np\n",
    "import json\n",
    "import gzip as gunzip\n",
    "from matplotlib import pyplot as plt\n",
    "import seaborn as sns\n",
    "pd.set_option('display.max_columns', 5000)\n",
    "pd.set_option('display.max_rows', 5000)\n",
    "from datetime import datetime\n",
    "import pytz\n",
    "import ast \n",
    "print(datetime.today().strftime(\"%d-%b-%Y %a\"), \"Notebook\")\n",
    "tz_Suisse = pytz.timezone('Europe/Zurich')\n",
    "current_time= datetime.now(tz_Suisse)\n",
    "print(\"Lausanne Time : \", current_time.strftime(\"%H:%M:%S\"))"
   ]
  },
  {
   "cell_type": "code",
   "execution_count": 2,
   "metadata": {},
   "outputs": [
    {
     "data": {
      "text/html": [
       "<div>\n",
       "<style scoped>\n",
       "    .dataframe tbody tr th:only-of-type {\n",
       "        vertical-align: middle;\n",
       "    }\n",
       "\n",
       "    .dataframe tbody tr th {\n",
       "        vertical-align: top;\n",
       "    }\n",
       "\n",
       "    .dataframe thead th {\n",
       "        text-align: right;\n",
       "    }\n",
       "</style>\n",
       "<table border=\"1\" class=\"dataframe\">\n",
       "  <thead>\n",
       "    <tr style=\"text-align: right;\">\n",
       "      <th></th>\n",
       "      <th>Name</th>\n",
       "      <th>Address</th>\n",
       "      <th>Location</th>\n",
       "      <th>Price</th>\n",
       "      <th>Cuisine</th>\n",
       "      <th>Longitude</th>\n",
       "      <th>Latitude</th>\n",
       "      <th>PhoneNumber</th>\n",
       "      <th>Url</th>\n",
       "      <th>WebsiteUrl</th>\n",
       "      <th>Award</th>\n",
       "      <th>FacilitiesAndServices</th>\n",
       "      <th>Description</th>\n",
       "    </tr>\n",
       "  </thead>\n",
       "  <tbody>\n",
       "    <tr>\n",
       "      <th>0</th>\n",
       "      <td>L'OSIER</td>\n",
       "      <td>7-5-5 Ginza, Chuo-ku, Tokyo, 104-0061, Japan</td>\n",
       "      <td>Tokyo, Japan</td>\n",
       "      <td>¥¥¥¥</td>\n",
       "      <td>French, Contemporary</td>\n",
       "      <td>139.761203</td>\n",
       "      <td>35.669667</td>\n",
       "      <td>8.133572e+10</td>\n",
       "      <td>https://guide.michelin.com/en/tokyo-region/tok...</td>\n",
       "      <td>https://losier.shiseido.co.jp/</td>\n",
       "      <td>3 Stars</td>\n",
       "      <td>Air conditioning,Car park,Interesting wine list</td>\n",
       "      <td>In 2023 L’OSIER celebrated the 50th anniversar...</td>\n",
       "    </tr>\n",
       "    <tr>\n",
       "      <th>1</th>\n",
       "      <td>Azabu Kadowaki</td>\n",
       "      <td>2-7-2 Azabujuban, Minato-ku, Tokyo, 106-0045, ...</td>\n",
       "      <td>Tokyo, Japan</td>\n",
       "      <td>¥¥¥¥</td>\n",
       "      <td>Japanese</td>\n",
       "      <td>139.733551</td>\n",
       "      <td>35.655993</td>\n",
       "      <td>8.135772e+10</td>\n",
       "      <td>https://guide.michelin.com/en/tokyo-region/tok...</td>\n",
       "      <td>NaN</td>\n",
       "      <td>3 Stars</td>\n",
       "      <td>Air conditioning,Counter dining</td>\n",
       "      <td>Toshiya Kadowaki’s aim is to serve up “unforge...</td>\n",
       "    </tr>\n",
       "    <tr>\n",
       "      <th>2</th>\n",
       "      <td>Kohaku</td>\n",
       "      <td>3-4 Kagurazaka, Shinjuku-ku, Tokyo, 162-0825, ...</td>\n",
       "      <td>Tokyo, Japan</td>\n",
       "      <td>¥¥¥¥</td>\n",
       "      <td>Japanese</td>\n",
       "      <td>139.741008</td>\n",
       "      <td>35.700701</td>\n",
       "      <td>8.150314e+11</td>\n",
       "      <td>https://guide.michelin.com/en/tokyo-region/tok...</td>\n",
       "      <td>http://kagurazaka-kohaku.jp/</td>\n",
       "      <td>3 Stars</td>\n",
       "      <td>Air conditioning,Counter dining,Interesting wi...</td>\n",
       "      <td>Koji Koizumi creates a cuisine all his own as ...</td>\n",
       "    </tr>\n",
       "    <tr>\n",
       "      <th>3</th>\n",
       "      <td>Harutaka</td>\n",
       "      <td>6F, 8-3-1 Ginza, Chuo-ku, Tokyo, 104-0061, Japan</td>\n",
       "      <td>Tokyo, Japan</td>\n",
       "      <td>¥¥¥¥</td>\n",
       "      <td>Sushi</td>\n",
       "      <td>139.759203</td>\n",
       "      <td>35.669269</td>\n",
       "      <td>8.133573e+10</td>\n",
       "      <td>https://guide.michelin.com/en/tokyo-region/tok...</td>\n",
       "      <td>NaN</td>\n",
       "      <td>3 Stars</td>\n",
       "      <td>Air conditioning,Counter dining</td>\n",
       "      <td>Sometimes our connections intervene to change ...</td>\n",
       "    </tr>\n",
       "    <tr>\n",
       "      <th>4</th>\n",
       "      <td>Kanda</td>\n",
       "      <td>1F, Toranomon Hills Residential Tower, 1-1-1 A...</td>\n",
       "      <td>Tokyo, Japan</td>\n",
       "      <td>¥¥¥¥</td>\n",
       "      <td>Japanese</td>\n",
       "      <td>139.748000</td>\n",
       "      <td>35.665800</td>\n",
       "      <td>8.136459e+10</td>\n",
       "      <td>https://guide.michelin.com/en/tokyo-region/tok...</td>\n",
       "      <td>http://www.nihonryori-kanda.com/</td>\n",
       "      <td>3 Stars</td>\n",
       "      <td>Air conditioning,Counter dining,Interesting wi...</td>\n",
       "      <td>Hiroyuki Kanda understands the essence of Japa...</td>\n",
       "    </tr>\n",
       "  </tbody>\n",
       "</table>\n",
       "</div>"
      ],
      "text/plain": [
       "             Name                                            Address  \\\n",
       "0         L'OSIER       7-5-5 Ginza, Chuo-ku, Tokyo, 104-0061, Japan   \n",
       "1  Azabu Kadowaki  2-7-2 Azabujuban, Minato-ku, Tokyo, 106-0045, ...   \n",
       "2          Kohaku  3-4 Kagurazaka, Shinjuku-ku, Tokyo, 162-0825, ...   \n",
       "3        Harutaka   6F, 8-3-1 Ginza, Chuo-ku, Tokyo, 104-0061, Japan   \n",
       "4           Kanda  1F, Toranomon Hills Residential Tower, 1-1-1 A...   \n",
       "\n",
       "       Location Price               Cuisine   Longitude   Latitude  \\\n",
       "0  Tokyo, Japan  ¥¥¥¥  French, Contemporary  139.761203  35.669667   \n",
       "1  Tokyo, Japan  ¥¥¥¥              Japanese  139.733551  35.655993   \n",
       "2  Tokyo, Japan  ¥¥¥¥              Japanese  139.741008  35.700701   \n",
       "3  Tokyo, Japan  ¥¥¥¥                 Sushi  139.759203  35.669269   \n",
       "4  Tokyo, Japan  ¥¥¥¥              Japanese  139.748000  35.665800   \n",
       "\n",
       "    PhoneNumber                                                Url  \\\n",
       "0  8.133572e+10  https://guide.michelin.com/en/tokyo-region/tok...   \n",
       "1  8.135772e+10  https://guide.michelin.com/en/tokyo-region/tok...   \n",
       "2  8.150314e+11  https://guide.michelin.com/en/tokyo-region/tok...   \n",
       "3  8.133573e+10  https://guide.michelin.com/en/tokyo-region/tok...   \n",
       "4  8.136459e+10  https://guide.michelin.com/en/tokyo-region/tok...   \n",
       "\n",
       "                         WebsiteUrl    Award  \\\n",
       "0    https://losier.shiseido.co.jp/  3 Stars   \n",
       "1                               NaN  3 Stars   \n",
       "2      http://kagurazaka-kohaku.jp/  3 Stars   \n",
       "3                               NaN  3 Stars   \n",
       "4  http://www.nihonryori-kanda.com/  3 Stars   \n",
       "\n",
       "                               FacilitiesAndServices  \\\n",
       "0    Air conditioning,Car park,Interesting wine list   \n",
       "1                    Air conditioning,Counter dining   \n",
       "2  Air conditioning,Counter dining,Interesting wi...   \n",
       "3                    Air conditioning,Counter dining   \n",
       "4  Air conditioning,Counter dining,Interesting wi...   \n",
       "\n",
       "                                         Description  \n",
       "0  In 2023 L’OSIER celebrated the 50th anniversar...  \n",
       "1  Toshiya Kadowaki’s aim is to serve up “unforge...  \n",
       "2  Koji Koizumi creates a cuisine all his own as ...  \n",
       "3  Sometimes our connections intervene to change ...  \n",
       "4  Hiroyuki Kanda understands the essence of Japa...  "
      ]
     },
     "execution_count": 2,
     "metadata": {},
     "output_type": "execute_result"
    }
   ],
   "source": [
    "michelin_df = pd.read_csv(\n",
    "    \"/Users/ilkergul/Documents/EPFL/MA4/Data_visualization/com-480-project-datatouille/data/michelin_my_maps.csv\")\n",
    "\n",
    "michelin_df.head()"
   ]
  },
  {
   "cell_type": "code",
   "execution_count": 3,
   "metadata": {},
   "outputs": [
    {
     "name": "stdout",
     "output_type": "stream",
     "text": [
      "(6794, 13)\n"
     ]
    }
   ],
   "source": [
    "print(michelin_df.shape)"
   ]
  },
  {
   "cell_type": "code",
   "execution_count": 4,
   "metadata": {},
   "outputs": [
    {
     "data": {
      "text/plain": [
       "Name                        0\n",
       "Address                     0\n",
       "Location                    0\n",
       "Price                       2\n",
       "Cuisine                     0\n",
       "Longitude                   0\n",
       "Latitude                    0\n",
       "PhoneNumber               159\n",
       "Url                         0\n",
       "WebsiteUrl               1242\n",
       "Award                       0\n",
       "FacilitiesAndServices     234\n",
       "Description                 0\n",
       "dtype: int64"
      ]
     },
     "execution_count": 4,
     "metadata": {},
     "output_type": "execute_result"
    }
   ],
   "source": [
    "michelin_df.isna().sum()"
   ]
  },
  {
   "cell_type": "code",
   "execution_count": 5,
   "metadata": {},
   "outputs": [
    {
     "data": {
      "text/plain": [
       "Bib Gourmand    3333\n",
       "1 Star          2844\n",
       "2 Stars          474\n",
       "3 Stars          143\n",
       "Name: Award, dtype: int64"
      ]
     },
     "execution_count": 5,
     "metadata": {},
     "output_type": "execute_result"
    }
   ],
   "source": [
    "michelin_df.Award.value_counts()"
   ]
  },
  {
   "cell_type": "code",
   "execution_count": 6,
   "metadata": {},
   "outputs": [
    {
     "data": {
      "text/plain": [
       "Tokyo, Japan                      309\n",
       "Kyoto, Japan                      193\n",
       "Osaka, Japan                      189\n",
       "New York, USA                     156\n",
       "Paris, France                     156\n",
       "Singapore                         132\n",
       "London, United Kingdom            106\n",
       "Hong Kong                          89\n",
       "Seoul, South Korea                 89\n",
       "Bangkok, Thailand                  87\n",
       "Taipei, Taiwan                     80\n",
       "Shanghai, China Mainland           77\n",
       "Chicago, USA                       67\n",
       "Guangzhou, China Mainland          61\n",
       "Washington, USA                    54\n",
       "Beijing, China Mainland            53\n",
       "Hong Kong, Hong Kong SAR China     50\n",
       "Madrid, Spain                      43\n",
       "San Francisco, USA                 42\n",
       "Nara, Japan                        42\n",
       "Name: Location, dtype: int64"
      ]
     },
     "execution_count": 6,
     "metadata": {},
     "output_type": "execute_result"
    }
   ],
   "source": [
    "michelin_df.Location.value_counts()[:20]"
   ]
  },
  {
   "cell_type": "code",
   "execution_count": 7,
   "metadata": {},
   "outputs": [
    {
     "data": {
      "text/plain": [
       "Bib Gourmand    64\n",
       "1 Star          56\n",
       "2 Stars         12\n",
       "3 Stars          7\n",
       "Name: Award, dtype: int64"
      ]
     },
     "execution_count": 7,
     "metadata": {},
     "output_type": "execute_result"
    }
   ],
   "source": [
    "# Exact match replacement\n",
    "michelin_df.loc[michelin_df['Location'] == 'Hong Kong', 'Location'] = 'Hong Kong, Hong Kong SAR China'\n",
    "\n",
    "# To ensure that any variation of 'Hong Kong' including those with trailing spaces are also replaced\n",
    "# You can use .str.replace() for a pattern match and replace\n",
    "michelin_df['Location'] = michelin_df['Location'].str.replace(r'^Hong Kong$', 'Hong Kong, Hong Kong SAR China', regex=True)\n",
    "\n",
    "# Filter rows where the Location includes 'Hong Kong'\n",
    "hong_kong_rows = michelin_df[michelin_df.Location.str.contains(\"Hong Kong\")]\n",
    "\n",
    "# Display the filtered rows\n",
    "hong_kong_rows.Award.value_counts()"
   ]
  },
  {
   "cell_type": "code",
   "execution_count": 8,
   "metadata": {},
   "outputs": [],
   "source": [
    "# Split the Location by comma and select the last part for the Country\n",
    "michelin_df['Country'] = michelin_df['Location'].str.split(', ').str[-1]\n",
    "michelin_df['Country'] = michelin_df['Country'].replace('Abu Dhabi', 'United Arab Emirates')\n",
    "michelin_df['Country'] = michelin_df['Country'].replace('Dubai', 'United Arab Emirates')\n",
    "michelin_df['Country'] = michelin_df['Country'].replace('Macau', 'Macau SAR China')\n",
    "michelin_df['Country'] = michelin_df['Country'].replace('Czechia', 'Czech Republic')\n",
    "\n",
    "# Extended mapping of country names to their flag emojis\n",
    "flag_emojis = {\n",
    "    'France': '🇫🇷',\n",
    "    'Japan': '🇯🇵',\n",
    "    'Italy': '🇮🇹',\n",
    "    'USA': '🇺🇸',\n",
    "    'Germany': '🇩🇪',\n",
    "    'Spain': '🇪🇸',\n",
    "    'United Kingdom': '🇬🇧',\n",
    "    'Belgium': '🇧🇪',\n",
    "    'Switzerland': '🇨🇭',\n",
    "    'China Mainland': '🇨🇳',\n",
    "    'Thailand': '🇹🇭',\n",
    "    'Netherlands': '🇳🇱',\n",
    "    'Taiwan': '🇹🇼',\n",
    "    'Hong Kong SAR China': '🇭🇰',\n",
    "    'Singapore': '🇸🇬',\n",
    "    'South Korea': '🇰🇷',\n",
    "    'Portugal': '🇵🇹',\n",
    "    'Canada': '🇨🇦',\n",
    "    'Malaysia': '🇲🇾',\n",
    "    'Brazil': '🇧🇷',\n",
    "    'Denmark': '🇩🇰',\n",
    "    'United Arab Emirates': '🇦🇪',\n",
    "    'Türkiye': '🇹🇷',\n",
    "    'Vietnam': '🇻🇳',\n",
    "    'Ireland': '🇮🇪',\n",
    "    'Sweden': '🇸🇪',\n",
    "    'Austria': '🇦🇹',\n",
    "    'Croatia': '🇭🇷',\n",
    "    'Macau SAR China': '🇲🇴',\n",
    "    'Norway': '🇳🇴',\n",
    "    'Greece': '🇬🇷',\n",
    "    'Slovenia': '🇸🇮',\n",
    "    'Luxembourg': '🇱🇺',\n",
    "    'Hungary': '🇭🇺',\n",
    "    'Argentina': '🇦🇷',\n",
    "    'Poland': '🇵🇱',\n",
    "    'Malta': '🇲🇹',\n",
    "    'Finland': '🇫🇮',\n",
    "    'Estonia': '🇪🇪',\n",
    "    'Latvia': '🇱🇻',\n",
    "    'Iceland': '🇮🇸',\n",
    "    'Czech Republic': '🇨🇿',  # Note: Czechia and Czech Republic are the same\n",
    "    'Serbia': '🇷🇸',\n",
    "    'Andorra': '🇦🇩',\n",
    "}\n",
    "\n",
    "# Get the value counts of the countries and convert it to a DataFrame for Plotly\n",
    "country_counts_df = michelin_df['Country'].value_counts().reset_index()\n",
    "country_counts_df.columns = ['Country', 'Restaurant Count']\n",
    "\n",
    "# Ensure the DataFrame is sorted by 'Restaurant Count' for better visual appearance\n",
    "country_counts_df = country_counts_df.sort_values('Restaurant Count', ascending=False)\n",
    "# Assume 'country_counts_df' has 'Country' column from your dataset\n",
    "country_counts_df['Country With Flag'] = country_counts_df['Country'].apply(lambda x: f\"{flag_emojis.get(x, '')} {x}\")"
   ]
  },
  {
   "cell_type": "code",
   "execution_count": 9,
   "metadata": {},
   "outputs": [
    {
     "data": {
      "application/vnd.plotly.v1+json": {
       "config": {
        "plotlyServerURL": "https://plot.ly"
       },
       "data": [
        {
         "alignmentgroup": "True",
         "customdata": [
          "🇫🇷",
          "🇯🇵",
          "🇮🇹",
          "🇺🇸",
          "🇩🇪",
          "🇪🇸",
          "🇬🇧",
          "🇧🇪",
          "🇨🇭",
          "🇨🇳",
          "🇹🇭",
          "🇳🇱",
          "🇹🇼",
          "🇭🇰",
          "🇸🇬",
          "🇰🇷",
          "🇵🇹",
          "🇨🇦",
          "🇲🇾",
          "🇧🇷",
          "🇩🇰",
          "🇦🇪",
          "🇹🇷",
          "🇻🇳",
          "🇮🇪",
          "🇸🇪",
          "🇦🇹",
          "🇭🇷",
          "🇲🇴",
          "🇳🇴",
          "🇬🇷",
          "🇸🇮",
          "🇱🇺",
          "🇭🇺",
          "🇦🇷",
          "🇵🇱",
          "🇲🇹",
          "🇫🇮",
          "🇪🇪",
          "🇨🇿",
          "🇱🇻",
          "🇮🇸",
          "🇷🇸",
          "🇦🇩"
         ],
         "hovertemplate": "<b>Country:</b> %{y} %{customdata}<br><b>Restaurant Count:</b> %{x}<extra></extra>",
         "legendgroup": "",
         "marker": {
          "color": [
           1016,
           733,
           651,
           600,
           581,
           500,
           275,
           270,
           257,
           242,
           231,
           219,
           182,
           139,
           132,
           89,
           73,
           61,
           50,
           47,
           47,
           41,
           38,
           33,
           33,
           29,
           25,
           25,
           22,
           21,
           17,
           16,
           16,
           15,
           14,
           10,
           10,
           9,
           8,
           7,
           4,
           3,
           2,
           1
          ],
          "coloraxis": "coloraxis",
          "line": {
           "color": "#EAEAEA",
           "width": 1
          },
          "pattern": {
           "shape": ""
          }
         },
         "name": "",
         "offsetgroup": "",
         "orientation": "h",
         "showlegend": false,
         "textposition": "auto",
         "type": "bar",
         "x": [
          1016,
          733,
          651,
          600,
          581,
          500,
          275,
          270,
          257,
          242,
          231,
          219,
          182,
          139,
          132,
          89,
          73,
          61,
          50,
          47,
          47,
          41,
          38,
          33,
          33,
          29,
          25,
          25,
          22,
          21,
          17,
          16,
          16,
          15,
          14,
          10,
          10,
          9,
          8,
          7,
          4,
          3,
          2,
          1
         ],
         "xaxis": "x",
         "y": [
          "France",
          "Japan",
          "Italy",
          "USA",
          "Germany",
          "Spain",
          "United Kingdom",
          "Belgium",
          "Switzerland",
          "China Mainland",
          "Thailand",
          "Netherlands",
          "Taiwan",
          "Hong Kong SAR China",
          "Singapore",
          "South Korea",
          "Portugal",
          "Canada",
          "Malaysia",
          "Brazil",
          "Denmark",
          "United Arab Emirates",
          "Türkiye",
          "Vietnam",
          "Ireland",
          "Sweden",
          "Austria",
          "Croatia",
          "Macau SAR China",
          "Norway",
          "Greece",
          "Slovenia",
          "Luxembourg",
          "Hungary",
          "Argentina",
          "Poland",
          "Malta",
          "Finland",
          "Estonia",
          "Czech Republic",
          "Latvia",
          "Iceland",
          "Serbia",
          "Andorra"
         ],
         "yaxis": "y"
        }
       ],
       "layout": {
        "barmode": "relative",
        "coloraxis": {
         "colorbar": {
          "title": {
           "text": "Restaurant Count"
          }
         },
         "colorscale": [
          [
           0.25,
           "#ffcccc"
          ],
          [
           0.5,
           "#ff9999"
          ],
          [
           0.75,
           "#ff6666"
          ],
          [
           1,
           "#bf0000"
          ]
         ]
        },
        "font": {
         "color": "#333",
         "family": "Arial, sans-serif"
        },
        "height": 1180,
        "hoverlabel": {
         "bgcolor": "white",
         "font": {
          "family": "Arial, sans-serif",
          "size": 16
         }
        },
        "legend": {
         "tracegroupgap": 0
        },
        "margin": {
         "l": 150,
         "t": 100
        },
        "paper_bgcolor": "rgba(255,255,255,1)",
        "plot_bgcolor": "rgba(255,255,255,1)",
        "template": {
         "data": {
          "bar": [
           {
            "error_x": {
             "color": "rgb(36,36,36)"
            },
            "error_y": {
             "color": "rgb(36,36,36)"
            },
            "marker": {
             "line": {
              "color": "white",
              "width": 0.5
             },
             "pattern": {
              "fillmode": "overlay",
              "size": 10,
              "solidity": 0.2
             }
            },
            "type": "bar"
           }
          ],
          "barpolar": [
           {
            "marker": {
             "line": {
              "color": "white",
              "width": 0.5
             },
             "pattern": {
              "fillmode": "overlay",
              "size": 10,
              "solidity": 0.2
             }
            },
            "type": "barpolar"
           }
          ],
          "carpet": [
           {
            "aaxis": {
             "endlinecolor": "rgb(36,36,36)",
             "gridcolor": "white",
             "linecolor": "white",
             "minorgridcolor": "white",
             "startlinecolor": "rgb(36,36,36)"
            },
            "baxis": {
             "endlinecolor": "rgb(36,36,36)",
             "gridcolor": "white",
             "linecolor": "white",
             "minorgridcolor": "white",
             "startlinecolor": "rgb(36,36,36)"
            },
            "type": "carpet"
           }
          ],
          "choropleth": [
           {
            "colorbar": {
             "outlinewidth": 1,
             "tickcolor": "rgb(36,36,36)",
             "ticks": "outside"
            },
            "type": "choropleth"
           }
          ],
          "contour": [
           {
            "colorbar": {
             "outlinewidth": 1,
             "tickcolor": "rgb(36,36,36)",
             "ticks": "outside"
            },
            "colorscale": [
             [
              0,
              "#440154"
             ],
             [
              0.1111111111111111,
              "#482878"
             ],
             [
              0.2222222222222222,
              "#3e4989"
             ],
             [
              0.3333333333333333,
              "#31688e"
             ],
             [
              0.4444444444444444,
              "#26828e"
             ],
             [
              0.5555555555555556,
              "#1f9e89"
             ],
             [
              0.6666666666666666,
              "#35b779"
             ],
             [
              0.7777777777777778,
              "#6ece58"
             ],
             [
              0.8888888888888888,
              "#b5de2b"
             ],
             [
              1,
              "#fde725"
             ]
            ],
            "type": "contour"
           }
          ],
          "contourcarpet": [
           {
            "colorbar": {
             "outlinewidth": 1,
             "tickcolor": "rgb(36,36,36)",
             "ticks": "outside"
            },
            "type": "contourcarpet"
           }
          ],
          "heatmap": [
           {
            "colorbar": {
             "outlinewidth": 1,
             "tickcolor": "rgb(36,36,36)",
             "ticks": "outside"
            },
            "colorscale": [
             [
              0,
              "#440154"
             ],
             [
              0.1111111111111111,
              "#482878"
             ],
             [
              0.2222222222222222,
              "#3e4989"
             ],
             [
              0.3333333333333333,
              "#31688e"
             ],
             [
              0.4444444444444444,
              "#26828e"
             ],
             [
              0.5555555555555556,
              "#1f9e89"
             ],
             [
              0.6666666666666666,
              "#35b779"
             ],
             [
              0.7777777777777778,
              "#6ece58"
             ],
             [
              0.8888888888888888,
              "#b5de2b"
             ],
             [
              1,
              "#fde725"
             ]
            ],
            "type": "heatmap"
           }
          ],
          "heatmapgl": [
           {
            "colorbar": {
             "outlinewidth": 1,
             "tickcolor": "rgb(36,36,36)",
             "ticks": "outside"
            },
            "colorscale": [
             [
              0,
              "#440154"
             ],
             [
              0.1111111111111111,
              "#482878"
             ],
             [
              0.2222222222222222,
              "#3e4989"
             ],
             [
              0.3333333333333333,
              "#31688e"
             ],
             [
              0.4444444444444444,
              "#26828e"
             ],
             [
              0.5555555555555556,
              "#1f9e89"
             ],
             [
              0.6666666666666666,
              "#35b779"
             ],
             [
              0.7777777777777778,
              "#6ece58"
             ],
             [
              0.8888888888888888,
              "#b5de2b"
             ],
             [
              1,
              "#fde725"
             ]
            ],
            "type": "heatmapgl"
           }
          ],
          "histogram": [
           {
            "marker": {
             "line": {
              "color": "white",
              "width": 0.6
             }
            },
            "type": "histogram"
           }
          ],
          "histogram2d": [
           {
            "colorbar": {
             "outlinewidth": 1,
             "tickcolor": "rgb(36,36,36)",
             "ticks": "outside"
            },
            "colorscale": [
             [
              0,
              "#440154"
             ],
             [
              0.1111111111111111,
              "#482878"
             ],
             [
              0.2222222222222222,
              "#3e4989"
             ],
             [
              0.3333333333333333,
              "#31688e"
             ],
             [
              0.4444444444444444,
              "#26828e"
             ],
             [
              0.5555555555555556,
              "#1f9e89"
             ],
             [
              0.6666666666666666,
              "#35b779"
             ],
             [
              0.7777777777777778,
              "#6ece58"
             ],
             [
              0.8888888888888888,
              "#b5de2b"
             ],
             [
              1,
              "#fde725"
             ]
            ],
            "type": "histogram2d"
           }
          ],
          "histogram2dcontour": [
           {
            "colorbar": {
             "outlinewidth": 1,
             "tickcolor": "rgb(36,36,36)",
             "ticks": "outside"
            },
            "colorscale": [
             [
              0,
              "#440154"
             ],
             [
              0.1111111111111111,
              "#482878"
             ],
             [
              0.2222222222222222,
              "#3e4989"
             ],
             [
              0.3333333333333333,
              "#31688e"
             ],
             [
              0.4444444444444444,
              "#26828e"
             ],
             [
              0.5555555555555556,
              "#1f9e89"
             ],
             [
              0.6666666666666666,
              "#35b779"
             ],
             [
              0.7777777777777778,
              "#6ece58"
             ],
             [
              0.8888888888888888,
              "#b5de2b"
             ],
             [
              1,
              "#fde725"
             ]
            ],
            "type": "histogram2dcontour"
           }
          ],
          "mesh3d": [
           {
            "colorbar": {
             "outlinewidth": 1,
             "tickcolor": "rgb(36,36,36)",
             "ticks": "outside"
            },
            "type": "mesh3d"
           }
          ],
          "parcoords": [
           {
            "line": {
             "colorbar": {
              "outlinewidth": 1,
              "tickcolor": "rgb(36,36,36)",
              "ticks": "outside"
             }
            },
            "type": "parcoords"
           }
          ],
          "pie": [
           {
            "automargin": true,
            "type": "pie"
           }
          ],
          "scatter": [
           {
            "fillpattern": {
             "fillmode": "overlay",
             "size": 10,
             "solidity": 0.2
            },
            "type": "scatter"
           }
          ],
          "scatter3d": [
           {
            "line": {
             "colorbar": {
              "outlinewidth": 1,
              "tickcolor": "rgb(36,36,36)",
              "ticks": "outside"
             }
            },
            "marker": {
             "colorbar": {
              "outlinewidth": 1,
              "tickcolor": "rgb(36,36,36)",
              "ticks": "outside"
             }
            },
            "type": "scatter3d"
           }
          ],
          "scattercarpet": [
           {
            "marker": {
             "colorbar": {
              "outlinewidth": 1,
              "tickcolor": "rgb(36,36,36)",
              "ticks": "outside"
             }
            },
            "type": "scattercarpet"
           }
          ],
          "scattergeo": [
           {
            "marker": {
             "colorbar": {
              "outlinewidth": 1,
              "tickcolor": "rgb(36,36,36)",
              "ticks": "outside"
             }
            },
            "type": "scattergeo"
           }
          ],
          "scattergl": [
           {
            "marker": {
             "colorbar": {
              "outlinewidth": 1,
              "tickcolor": "rgb(36,36,36)",
              "ticks": "outside"
             }
            },
            "type": "scattergl"
           }
          ],
          "scattermapbox": [
           {
            "marker": {
             "colorbar": {
              "outlinewidth": 1,
              "tickcolor": "rgb(36,36,36)",
              "ticks": "outside"
             }
            },
            "type": "scattermapbox"
           }
          ],
          "scatterpolar": [
           {
            "marker": {
             "colorbar": {
              "outlinewidth": 1,
              "tickcolor": "rgb(36,36,36)",
              "ticks": "outside"
             }
            },
            "type": "scatterpolar"
           }
          ],
          "scatterpolargl": [
           {
            "marker": {
             "colorbar": {
              "outlinewidth": 1,
              "tickcolor": "rgb(36,36,36)",
              "ticks": "outside"
             }
            },
            "type": "scatterpolargl"
           }
          ],
          "scatterternary": [
           {
            "marker": {
             "colorbar": {
              "outlinewidth": 1,
              "tickcolor": "rgb(36,36,36)",
              "ticks": "outside"
             }
            },
            "type": "scatterternary"
           }
          ],
          "surface": [
           {
            "colorbar": {
             "outlinewidth": 1,
             "tickcolor": "rgb(36,36,36)",
             "ticks": "outside"
            },
            "colorscale": [
             [
              0,
              "#440154"
             ],
             [
              0.1111111111111111,
              "#482878"
             ],
             [
              0.2222222222222222,
              "#3e4989"
             ],
             [
              0.3333333333333333,
              "#31688e"
             ],
             [
              0.4444444444444444,
              "#26828e"
             ],
             [
              0.5555555555555556,
              "#1f9e89"
             ],
             [
              0.6666666666666666,
              "#35b779"
             ],
             [
              0.7777777777777778,
              "#6ece58"
             ],
             [
              0.8888888888888888,
              "#b5de2b"
             ],
             [
              1,
              "#fde725"
             ]
            ],
            "type": "surface"
           }
          ],
          "table": [
           {
            "cells": {
             "fill": {
              "color": "rgb(237,237,237)"
             },
             "line": {
              "color": "white"
             }
            },
            "header": {
             "fill": {
              "color": "rgb(217,217,217)"
             },
             "line": {
              "color": "white"
             }
            },
            "type": "table"
           }
          ]
         },
         "layout": {
          "annotationdefaults": {
           "arrowhead": 0,
           "arrowwidth": 1
          },
          "autotypenumbers": "strict",
          "coloraxis": {
           "colorbar": {
            "outlinewidth": 1,
            "tickcolor": "rgb(36,36,36)",
            "ticks": "outside"
           }
          },
          "colorscale": {
           "diverging": [
            [
             0,
             "rgb(103,0,31)"
            ],
            [
             0.1,
             "rgb(178,24,43)"
            ],
            [
             0.2,
             "rgb(214,96,77)"
            ],
            [
             0.3,
             "rgb(244,165,130)"
            ],
            [
             0.4,
             "rgb(253,219,199)"
            ],
            [
             0.5,
             "rgb(247,247,247)"
            ],
            [
             0.6,
             "rgb(209,229,240)"
            ],
            [
             0.7,
             "rgb(146,197,222)"
            ],
            [
             0.8,
             "rgb(67,147,195)"
            ],
            [
             0.9,
             "rgb(33,102,172)"
            ],
            [
             1,
             "rgb(5,48,97)"
            ]
           ],
           "sequential": [
            [
             0,
             "#440154"
            ],
            [
             0.1111111111111111,
             "#482878"
            ],
            [
             0.2222222222222222,
             "#3e4989"
            ],
            [
             0.3333333333333333,
             "#31688e"
            ],
            [
             0.4444444444444444,
             "#26828e"
            ],
            [
             0.5555555555555556,
             "#1f9e89"
            ],
            [
             0.6666666666666666,
             "#35b779"
            ],
            [
             0.7777777777777778,
             "#6ece58"
            ],
            [
             0.8888888888888888,
             "#b5de2b"
            ],
            [
             1,
             "#fde725"
            ]
           ],
           "sequentialminus": [
            [
             0,
             "#440154"
            ],
            [
             0.1111111111111111,
             "#482878"
            ],
            [
             0.2222222222222222,
             "#3e4989"
            ],
            [
             0.3333333333333333,
             "#31688e"
            ],
            [
             0.4444444444444444,
             "#26828e"
            ],
            [
             0.5555555555555556,
             "#1f9e89"
            ],
            [
             0.6666666666666666,
             "#35b779"
            ],
            [
             0.7777777777777778,
             "#6ece58"
            ],
            [
             0.8888888888888888,
             "#b5de2b"
            ],
            [
             1,
             "#fde725"
            ]
           ]
          },
          "colorway": [
           "#1F77B4",
           "#FF7F0E",
           "#2CA02C",
           "#D62728",
           "#9467BD",
           "#8C564B",
           "#E377C2",
           "#7F7F7F",
           "#BCBD22",
           "#17BECF"
          ],
          "font": {
           "color": "rgb(36,36,36)"
          },
          "geo": {
           "bgcolor": "white",
           "lakecolor": "white",
           "landcolor": "white",
           "showlakes": true,
           "showland": true,
           "subunitcolor": "white"
          },
          "hoverlabel": {
           "align": "left"
          },
          "hovermode": "closest",
          "mapbox": {
           "style": "light"
          },
          "paper_bgcolor": "white",
          "plot_bgcolor": "white",
          "polar": {
           "angularaxis": {
            "gridcolor": "rgb(232,232,232)",
            "linecolor": "rgb(36,36,36)",
            "showgrid": false,
            "showline": true,
            "ticks": "outside"
           },
           "bgcolor": "white",
           "radialaxis": {
            "gridcolor": "rgb(232,232,232)",
            "linecolor": "rgb(36,36,36)",
            "showgrid": false,
            "showline": true,
            "ticks": "outside"
           }
          },
          "scene": {
           "xaxis": {
            "backgroundcolor": "white",
            "gridcolor": "rgb(232,232,232)",
            "gridwidth": 2,
            "linecolor": "rgb(36,36,36)",
            "showbackground": true,
            "showgrid": false,
            "showline": true,
            "ticks": "outside",
            "zeroline": false,
            "zerolinecolor": "rgb(36,36,36)"
           },
           "yaxis": {
            "backgroundcolor": "white",
            "gridcolor": "rgb(232,232,232)",
            "gridwidth": 2,
            "linecolor": "rgb(36,36,36)",
            "showbackground": true,
            "showgrid": false,
            "showline": true,
            "ticks": "outside",
            "zeroline": false,
            "zerolinecolor": "rgb(36,36,36)"
           },
           "zaxis": {
            "backgroundcolor": "white",
            "gridcolor": "rgb(232,232,232)",
            "gridwidth": 2,
            "linecolor": "rgb(36,36,36)",
            "showbackground": true,
            "showgrid": false,
            "showline": true,
            "ticks": "outside",
            "zeroline": false,
            "zerolinecolor": "rgb(36,36,36)"
           }
          },
          "shapedefaults": {
           "fillcolor": "black",
           "line": {
            "width": 0
           },
           "opacity": 0.3
          },
          "ternary": {
           "aaxis": {
            "gridcolor": "rgb(232,232,232)",
            "linecolor": "rgb(36,36,36)",
            "showgrid": false,
            "showline": true,
            "ticks": "outside"
           },
           "baxis": {
            "gridcolor": "rgb(232,232,232)",
            "linecolor": "rgb(36,36,36)",
            "showgrid": false,
            "showline": true,
            "ticks": "outside"
           },
           "bgcolor": "white",
           "caxis": {
            "gridcolor": "rgb(232,232,232)",
            "linecolor": "rgb(36,36,36)",
            "showgrid": false,
            "showline": true,
            "ticks": "outside"
           }
          },
          "title": {
           "x": 0.05
          },
          "xaxis": {
           "automargin": true,
           "gridcolor": "rgb(232,232,232)",
           "linecolor": "rgb(36,36,36)",
           "showgrid": false,
           "showline": true,
           "ticks": "outside",
           "title": {
            "standoff": 15
           },
           "zeroline": false,
           "zerolinecolor": "rgb(36,36,36)"
          },
          "yaxis": {
           "automargin": true,
           "gridcolor": "rgb(232,232,232)",
           "linecolor": "rgb(36,36,36)",
           "showgrid": false,
           "showline": true,
           "ticks": "outside",
           "title": {
            "standoff": 15
           },
           "zeroline": false,
           "zerolinecolor": "rgb(36,36,36)"
          }
         }
        },
        "title": {
         "font": {
          "color": "#333",
          "family": "Arial, sans-serif",
          "size": 25
         },
         "text": "Michelin Guide Listings by Country"
        },
        "xaxis": {
         "anchor": "y",
         "domain": [
          0,
          1
         ],
         "title": {
          "text": "Number of Listings"
         }
        },
        "yaxis": {
         "anchor": "x",
         "autorange": "reversed",
         "domain": [
          0,
          1
         ],
         "tickfont": {
          "size": 10
         },
         "tickmode": "linear",
         "title": {
          "text": "Country"
         }
        }
       }
      }
     },
     "metadata": {},
     "output_type": "display_data"
    }
   ],
   "source": [
    "import plotly.express as px\n",
    "\n",
    "# Define a custom \"Mint\" color scale\n",
    "michelin_inspired_color_scale = [\n",
    "    [0.25, \"#ffcccc\"],  # Soluk kırmızı\n",
    "    [0.5, \"#ff9999\"],  # Orta kırmızı\n",
    "    [0.75, \"#ff6666\"],  # Daha koyu kırmızı\n",
    "    [1, \"#bf0000\"]  # Michelin bordosu\n",
    "]\n",
    "\n",
    "base_height = 300\n",
    "height_per_country = 20\n",
    "fig_height = base_height + height_per_country * len(country_counts_df)\n",
    "\n",
    "# Create a bar plot with improved layout for y-axis labels visibility\n",
    "fig = px.bar(country_counts_df, \n",
    "             y='Country', \n",
    "             x='Restaurant Count', \n",
    "             orientation='h',\n",
    "             title='Michelin Guide Listings by Country',\n",
    "             template='simple_white',\n",
    "             color='Restaurant Count',\n",
    "             color_continuous_scale=michelin_inspired_color_scale,\n",
    "             height=fig_height)  # Adjusted height based on the number of countries\n",
    "\n",
    "# Customize hover data for additional interactivity and information richness\n",
    "fig.update_traces(\n",
    "    customdata=country_counts_df['Country'].apply(lambda x: flag_emojis.get(x, '')),\n",
    "    hovertemplate=\"<b>Country:</b> %{y} %{customdata}<br><b>Restaurant Count:</b> %{x}<extra></extra>\",\n",
    "    marker=dict(line=dict(color='#EAEAEA', width=1))\n",
    ")\n",
    "\n",
    "# Improve layout for clarity and readability\n",
    "fig.update_layout(\n",
    "    xaxis_title='Number of Listings',\n",
    "    yaxis_title='Country',\n",
    "    hoverlabel=dict(\n",
    "        bgcolor=\"white\",\n",
    "        font_size=16,\n",
    "        font_family=\"Arial, sans-serif\"\n",
    "    ),\n",
    "    title_font=dict(size=25, color='#333', family=\"Arial, sans-serif\"),\n",
    "    font=dict(family=\"Arial, sans-serif\", color='#333'),\n",
    "    paper_bgcolor='rgba(255,255,255,1)',\n",
    "    plot_bgcolor='rgba(255,255,255,1)',\n",
    "    margin=dict(t=100, l=150),  # Adjusted left margin for longer country names\n",
    "    yaxis=dict(autorange=\"reversed\", tickmode='linear')  # Ensure all country names are shown\n",
    ")\n",
    "\n",
    "# Optionally, adjust font size for the axis labels if needed\n",
    "fig.update_yaxes(tickfont=dict(size=10))\n",
    "\n",
    "# Show the figure\n",
    "fig.show()\n"
   ]
  },
  {
   "cell_type": "code",
   "execution_count": 10,
   "metadata": {},
   "outputs": [],
   "source": [
    "continent_mapping = {\n",
    "    'France': 'Europe',\n",
    "    'Japan': 'Asia',\n",
    "    'Italy': 'Europe',\n",
    "    'USA': 'North America',\n",
    "    'Germany': 'Europe',\n",
    "    'Spain': 'Europe',\n",
    "    'United Kingdom': 'Europe',\n",
    "    'Belgium': 'Europe',\n",
    "    'Switzerland': 'Europe',\n",
    "    'China Mainland': 'Asia',\n",
    "    'Thailand': 'Asia',\n",
    "    'Netherlands': 'Europe',\n",
    "    'Taiwan': 'Asia',\n",
    "    'Hong Kong SAR China': 'Asia',\n",
    "    'Singapore': 'Asia',\n",
    "    'South Korea': 'Asia',\n",
    "    'Portugal': 'Europe',\n",
    "    'Canada': 'North America',\n",
    "    'Malaysia': 'Asia',\n",
    "    'Brazil': 'South America',\n",
    "    'Denmark': 'Europe',\n",
    "    'United Arab Emirates': 'Asia',\n",
    "    'Türkiye': 'Europe',\n",
    "    'Vietnam': 'Asia',\n",
    "    'Ireland': 'Europe',\n",
    "    'Sweden': 'Europe',\n",
    "    'Austria': 'Europe',\n",
    "    'Croatia': 'Europe',\n",
    "    'Macau SAR China': 'Asia',\n",
    "    'Norway': 'Europe',\n",
    "    'Greece': 'Europe',\n",
    "    'Slovenia': 'Europe',\n",
    "    'Luxembourg': 'Europe',\n",
    "    'Hungary': 'Europe',\n",
    "    'Argentina': 'South America',\n",
    "    'Poland': 'Europe',\n",
    "    'Malta': 'Europe',\n",
    "    'Finland': 'Europe',\n",
    "    'Estonia': 'Europe',\n",
    "    'Latvia': 'Europe',\n",
    "    'Iceland': 'Europe',\n",
    "    'Czech Republic': 'Europe',\n",
    "    'Serbia': 'Europe',\n",
    "    'Andorra': 'Europe',\n",
    "}\n",
    "\n",
    "# Assuming 'country_counts_df' is your DataFrame and it has a column named 'Country'\n",
    "# that matches the keys in the 'continent_mapping'\n",
    "michelin_df['Continent'] = michelin_df['Country'].map(continent_mapping)"
   ]
  },
  {
   "cell_type": "code",
   "execution_count": 11,
   "metadata": {},
   "outputs": [
    {
     "data": {
      "text/plain": [
       "Europe           4178\n",
       "Asia             1894\n",
       "North America     661\n",
       "South America      61\n",
       "Name: Continent, dtype: int64"
      ]
     },
     "execution_count": 11,
     "metadata": {},
     "output_type": "execute_result"
    }
   ],
   "source": [
    "michelin_df.Continent.value_counts()"
   ]
  },
  {
   "cell_type": "code",
   "execution_count": 12,
   "metadata": {},
   "outputs": [
    {
     "data": {
      "application/vnd.plotly.v1+json": {
       "config": {
        "plotlyServerURL": "https://plot.ly"
       },
       "data": [
        {
         "coloraxis": "coloraxis",
         "geo": "geo",
         "hovertemplate": "<b>%{hovertext}</b><br><br>ISO_A3=%{location}<br>Listings=%{z}<extra></extra>",
         "hovertext": [
          "Europe",
          "Europe",
          "Europe",
          "Europe",
          "Europe",
          "Europe",
          "Europe",
          "Europe",
          "Europe",
          "Europe",
          "Europe",
          "Europe",
          "Europe",
          "Europe",
          "Europe",
          "Europe",
          "Europe",
          "Europe",
          "Europe",
          "Europe",
          "Europe",
          "Europe",
          "Europe",
          "Europe",
          "Europe",
          "Europe",
          "Europe",
          "Europe",
          "Asia",
          "Asia",
          "Asia",
          "Asia",
          "Asia",
          "Asia",
          "Asia",
          "Asia",
          "Asia",
          "Asia",
          "Asia",
          "Asia",
          "Asia",
          "North America",
          "North America",
          "North America",
          "South America",
          "South America",
          "South America"
         ],
         "locations": [
          "FRA",
          "DEU",
          "ITA",
          "ESP",
          "GBR",
          "BEL",
          "CHE",
          "NLD",
          "PRT",
          "DNK",
          "SWE",
          "AUT",
          "HRV",
          "NOR",
          "GRC",
          "SVN",
          "LUX",
          "HUN",
          "POL",
          "MLT",
          "FIN",
          "EST",
          "LVA",
          "ISL",
          "CZE",
          "SRB",
          "AND",
          "IRL",
          "CHN",
          "JPN",
          "IND",
          "THA",
          "TWN",
          "HKG",
          "SGP",
          "KOR",
          "MYS",
          "ARE",
          "TUR",
          "VNM",
          "MAC",
          "USA",
          "CAN",
          "MEX",
          "BRA",
          "ARG",
          "COL"
         ],
         "name": "",
         "type": "choropleth",
         "z": [
          4178,
          4178,
          4178,
          4178,
          4178,
          4178,
          4178,
          4178,
          4178,
          4178,
          4178,
          4178,
          4178,
          4178,
          4178,
          4178,
          4178,
          4178,
          4178,
          4178,
          4178,
          4178,
          4178,
          4178,
          4178,
          4178,
          4178,
          4178,
          1894,
          1894,
          1894,
          1894,
          1894,
          1894,
          1894,
          1894,
          1894,
          1894,
          1894,
          1894,
          1894,
          661,
          661,
          661,
          61,
          61,
          61
         ]
        }
       ],
       "layout": {
        "coloraxis": {
         "colorbar": {
          "title": {
           "text": "Listings"
          }
         },
         "colorscale": [
          [
           0,
           "rgb(255,247,236)"
          ],
          [
           0.125,
           "rgb(254,232,200)"
          ],
          [
           0.25,
           "rgb(253,212,158)"
          ],
          [
           0.375,
           "rgb(253,187,132)"
          ],
          [
           0.5,
           "rgb(252,141,89)"
          ],
          [
           0.625,
           "rgb(239,101,72)"
          ],
          [
           0.75,
           "rgb(215,48,31)"
          ],
          [
           0.875,
           "rgb(179,0,0)"
          ],
          [
           1,
           "rgb(127,0,0)"
          ]
         ]
        },
        "geo": {
         "bgcolor": "lightblue",
         "center": {},
         "countrycolor": "grey",
         "countrywidth": 0.5,
         "domain": {
          "x": [
           0,
           1
          ],
          "y": [
           0,
           1
          ]
         },
         "lakecolor": "blue",
         "landcolor": "lightgrey",
         "projection": {
          "type": "natural earth"
         },
         "showcoastlines": false,
         "showcountries": true,
         "showframe": false,
         "showland": true
        },
        "legend": {
         "tracegroupgap": 0
        },
        "margin": {
         "b": 0,
         "l": 0,
         "r": 0,
         "t": 50
        },
        "template": {
         "data": {
          "bar": [
           {
            "error_x": {
             "color": "#2a3f5f"
            },
            "error_y": {
             "color": "#2a3f5f"
            },
            "marker": {
             "line": {
              "color": "#E5ECF6",
              "width": 0.5
             },
             "pattern": {
              "fillmode": "overlay",
              "size": 10,
              "solidity": 0.2
             }
            },
            "type": "bar"
           }
          ],
          "barpolar": [
           {
            "marker": {
             "line": {
              "color": "#E5ECF6",
              "width": 0.5
             },
             "pattern": {
              "fillmode": "overlay",
              "size": 10,
              "solidity": 0.2
             }
            },
            "type": "barpolar"
           }
          ],
          "carpet": [
           {
            "aaxis": {
             "endlinecolor": "#2a3f5f",
             "gridcolor": "white",
             "linecolor": "white",
             "minorgridcolor": "white",
             "startlinecolor": "#2a3f5f"
            },
            "baxis": {
             "endlinecolor": "#2a3f5f",
             "gridcolor": "white",
             "linecolor": "white",
             "minorgridcolor": "white",
             "startlinecolor": "#2a3f5f"
            },
            "type": "carpet"
           }
          ],
          "choropleth": [
           {
            "colorbar": {
             "outlinewidth": 0,
             "ticks": ""
            },
            "type": "choropleth"
           }
          ],
          "contour": [
           {
            "colorbar": {
             "outlinewidth": 0,
             "ticks": ""
            },
            "colorscale": [
             [
              0,
              "#0d0887"
             ],
             [
              0.1111111111111111,
              "#46039f"
             ],
             [
              0.2222222222222222,
              "#7201a8"
             ],
             [
              0.3333333333333333,
              "#9c179e"
             ],
             [
              0.4444444444444444,
              "#bd3786"
             ],
             [
              0.5555555555555556,
              "#d8576b"
             ],
             [
              0.6666666666666666,
              "#ed7953"
             ],
             [
              0.7777777777777778,
              "#fb9f3a"
             ],
             [
              0.8888888888888888,
              "#fdca26"
             ],
             [
              1,
              "#f0f921"
             ]
            ],
            "type": "contour"
           }
          ],
          "contourcarpet": [
           {
            "colorbar": {
             "outlinewidth": 0,
             "ticks": ""
            },
            "type": "contourcarpet"
           }
          ],
          "heatmap": [
           {
            "colorbar": {
             "outlinewidth": 0,
             "ticks": ""
            },
            "colorscale": [
             [
              0,
              "#0d0887"
             ],
             [
              0.1111111111111111,
              "#46039f"
             ],
             [
              0.2222222222222222,
              "#7201a8"
             ],
             [
              0.3333333333333333,
              "#9c179e"
             ],
             [
              0.4444444444444444,
              "#bd3786"
             ],
             [
              0.5555555555555556,
              "#d8576b"
             ],
             [
              0.6666666666666666,
              "#ed7953"
             ],
             [
              0.7777777777777778,
              "#fb9f3a"
             ],
             [
              0.8888888888888888,
              "#fdca26"
             ],
             [
              1,
              "#f0f921"
             ]
            ],
            "type": "heatmap"
           }
          ],
          "heatmapgl": [
           {
            "colorbar": {
             "outlinewidth": 0,
             "ticks": ""
            },
            "colorscale": [
             [
              0,
              "#0d0887"
             ],
             [
              0.1111111111111111,
              "#46039f"
             ],
             [
              0.2222222222222222,
              "#7201a8"
             ],
             [
              0.3333333333333333,
              "#9c179e"
             ],
             [
              0.4444444444444444,
              "#bd3786"
             ],
             [
              0.5555555555555556,
              "#d8576b"
             ],
             [
              0.6666666666666666,
              "#ed7953"
             ],
             [
              0.7777777777777778,
              "#fb9f3a"
             ],
             [
              0.8888888888888888,
              "#fdca26"
             ],
             [
              1,
              "#f0f921"
             ]
            ],
            "type": "heatmapgl"
           }
          ],
          "histogram": [
           {
            "marker": {
             "pattern": {
              "fillmode": "overlay",
              "size": 10,
              "solidity": 0.2
             }
            },
            "type": "histogram"
           }
          ],
          "histogram2d": [
           {
            "colorbar": {
             "outlinewidth": 0,
             "ticks": ""
            },
            "colorscale": [
             [
              0,
              "#0d0887"
             ],
             [
              0.1111111111111111,
              "#46039f"
             ],
             [
              0.2222222222222222,
              "#7201a8"
             ],
             [
              0.3333333333333333,
              "#9c179e"
             ],
             [
              0.4444444444444444,
              "#bd3786"
             ],
             [
              0.5555555555555556,
              "#d8576b"
             ],
             [
              0.6666666666666666,
              "#ed7953"
             ],
             [
              0.7777777777777778,
              "#fb9f3a"
             ],
             [
              0.8888888888888888,
              "#fdca26"
             ],
             [
              1,
              "#f0f921"
             ]
            ],
            "type": "histogram2d"
           }
          ],
          "histogram2dcontour": [
           {
            "colorbar": {
             "outlinewidth": 0,
             "ticks": ""
            },
            "colorscale": [
             [
              0,
              "#0d0887"
             ],
             [
              0.1111111111111111,
              "#46039f"
             ],
             [
              0.2222222222222222,
              "#7201a8"
             ],
             [
              0.3333333333333333,
              "#9c179e"
             ],
             [
              0.4444444444444444,
              "#bd3786"
             ],
             [
              0.5555555555555556,
              "#d8576b"
             ],
             [
              0.6666666666666666,
              "#ed7953"
             ],
             [
              0.7777777777777778,
              "#fb9f3a"
             ],
             [
              0.8888888888888888,
              "#fdca26"
             ],
             [
              1,
              "#f0f921"
             ]
            ],
            "type": "histogram2dcontour"
           }
          ],
          "mesh3d": [
           {
            "colorbar": {
             "outlinewidth": 0,
             "ticks": ""
            },
            "type": "mesh3d"
           }
          ],
          "parcoords": [
           {
            "line": {
             "colorbar": {
              "outlinewidth": 0,
              "ticks": ""
             }
            },
            "type": "parcoords"
           }
          ],
          "pie": [
           {
            "automargin": true,
            "type": "pie"
           }
          ],
          "scatter": [
           {
            "fillpattern": {
             "fillmode": "overlay",
             "size": 10,
             "solidity": 0.2
            },
            "type": "scatter"
           }
          ],
          "scatter3d": [
           {
            "line": {
             "colorbar": {
              "outlinewidth": 0,
              "ticks": ""
             }
            },
            "marker": {
             "colorbar": {
              "outlinewidth": 0,
              "ticks": ""
             }
            },
            "type": "scatter3d"
           }
          ],
          "scattercarpet": [
           {
            "marker": {
             "colorbar": {
              "outlinewidth": 0,
              "ticks": ""
             }
            },
            "type": "scattercarpet"
           }
          ],
          "scattergeo": [
           {
            "marker": {
             "colorbar": {
              "outlinewidth": 0,
              "ticks": ""
             }
            },
            "type": "scattergeo"
           }
          ],
          "scattergl": [
           {
            "marker": {
             "colorbar": {
              "outlinewidth": 0,
              "ticks": ""
             }
            },
            "type": "scattergl"
           }
          ],
          "scattermapbox": [
           {
            "marker": {
             "colorbar": {
              "outlinewidth": 0,
              "ticks": ""
             }
            },
            "type": "scattermapbox"
           }
          ],
          "scatterpolar": [
           {
            "marker": {
             "colorbar": {
              "outlinewidth": 0,
              "ticks": ""
             }
            },
            "type": "scatterpolar"
           }
          ],
          "scatterpolargl": [
           {
            "marker": {
             "colorbar": {
              "outlinewidth": 0,
              "ticks": ""
             }
            },
            "type": "scatterpolargl"
           }
          ],
          "scatterternary": [
           {
            "marker": {
             "colorbar": {
              "outlinewidth": 0,
              "ticks": ""
             }
            },
            "type": "scatterternary"
           }
          ],
          "surface": [
           {
            "colorbar": {
             "outlinewidth": 0,
             "ticks": ""
            },
            "colorscale": [
             [
              0,
              "#0d0887"
             ],
             [
              0.1111111111111111,
              "#46039f"
             ],
             [
              0.2222222222222222,
              "#7201a8"
             ],
             [
              0.3333333333333333,
              "#9c179e"
             ],
             [
              0.4444444444444444,
              "#bd3786"
             ],
             [
              0.5555555555555556,
              "#d8576b"
             ],
             [
              0.6666666666666666,
              "#ed7953"
             ],
             [
              0.7777777777777778,
              "#fb9f3a"
             ],
             [
              0.8888888888888888,
              "#fdca26"
             ],
             [
              1,
              "#f0f921"
             ]
            ],
            "type": "surface"
           }
          ],
          "table": [
           {
            "cells": {
             "fill": {
              "color": "#EBF0F8"
             },
             "line": {
              "color": "white"
             }
            },
            "header": {
             "fill": {
              "color": "#C8D4E3"
             },
             "line": {
              "color": "white"
             }
            },
            "type": "table"
           }
          ]
         },
         "layout": {
          "annotationdefaults": {
           "arrowcolor": "#2a3f5f",
           "arrowhead": 0,
           "arrowwidth": 1
          },
          "autotypenumbers": "strict",
          "coloraxis": {
           "colorbar": {
            "outlinewidth": 0,
            "ticks": ""
           }
          },
          "colorscale": {
           "diverging": [
            [
             0,
             "#8e0152"
            ],
            [
             0.1,
             "#c51b7d"
            ],
            [
             0.2,
             "#de77ae"
            ],
            [
             0.3,
             "#f1b6da"
            ],
            [
             0.4,
             "#fde0ef"
            ],
            [
             0.5,
             "#f7f7f7"
            ],
            [
             0.6,
             "#e6f5d0"
            ],
            [
             0.7,
             "#b8e186"
            ],
            [
             0.8,
             "#7fbc41"
            ],
            [
             0.9,
             "#4d9221"
            ],
            [
             1,
             "#276419"
            ]
           ],
           "sequential": [
            [
             0,
             "#0d0887"
            ],
            [
             0.1111111111111111,
             "#46039f"
            ],
            [
             0.2222222222222222,
             "#7201a8"
            ],
            [
             0.3333333333333333,
             "#9c179e"
            ],
            [
             0.4444444444444444,
             "#bd3786"
            ],
            [
             0.5555555555555556,
             "#d8576b"
            ],
            [
             0.6666666666666666,
             "#ed7953"
            ],
            [
             0.7777777777777778,
             "#fb9f3a"
            ],
            [
             0.8888888888888888,
             "#fdca26"
            ],
            [
             1,
             "#f0f921"
            ]
           ],
           "sequentialminus": [
            [
             0,
             "#0d0887"
            ],
            [
             0.1111111111111111,
             "#46039f"
            ],
            [
             0.2222222222222222,
             "#7201a8"
            ],
            [
             0.3333333333333333,
             "#9c179e"
            ],
            [
             0.4444444444444444,
             "#bd3786"
            ],
            [
             0.5555555555555556,
             "#d8576b"
            ],
            [
             0.6666666666666666,
             "#ed7953"
            ],
            [
             0.7777777777777778,
             "#fb9f3a"
            ],
            [
             0.8888888888888888,
             "#fdca26"
            ],
            [
             1,
             "#f0f921"
            ]
           ]
          },
          "colorway": [
           "#636efa",
           "#EF553B",
           "#00cc96",
           "#ab63fa",
           "#FFA15A",
           "#19d3f3",
           "#FF6692",
           "#B6E880",
           "#FF97FF",
           "#FECB52"
          ],
          "font": {
           "color": "#2a3f5f"
          },
          "geo": {
           "bgcolor": "white",
           "lakecolor": "white",
           "landcolor": "#E5ECF6",
           "showlakes": true,
           "showland": true,
           "subunitcolor": "white"
          },
          "hoverlabel": {
           "align": "left"
          },
          "hovermode": "closest",
          "mapbox": {
           "style": "light"
          },
          "paper_bgcolor": "white",
          "plot_bgcolor": "#E5ECF6",
          "polar": {
           "angularaxis": {
            "gridcolor": "white",
            "linecolor": "white",
            "ticks": ""
           },
           "bgcolor": "#E5ECF6",
           "radialaxis": {
            "gridcolor": "white",
            "linecolor": "white",
            "ticks": ""
           }
          },
          "scene": {
           "xaxis": {
            "backgroundcolor": "#E5ECF6",
            "gridcolor": "white",
            "gridwidth": 2,
            "linecolor": "white",
            "showbackground": true,
            "ticks": "",
            "zerolinecolor": "white"
           },
           "yaxis": {
            "backgroundcolor": "#E5ECF6",
            "gridcolor": "white",
            "gridwidth": 2,
            "linecolor": "white",
            "showbackground": true,
            "ticks": "",
            "zerolinecolor": "white"
           },
           "zaxis": {
            "backgroundcolor": "#E5ECF6",
            "gridcolor": "white",
            "gridwidth": 2,
            "linecolor": "white",
            "showbackground": true,
            "ticks": "",
            "zerolinecolor": "white"
           }
          },
          "shapedefaults": {
           "line": {
            "color": "#2a3f5f"
           }
          },
          "ternary": {
           "aaxis": {
            "gridcolor": "white",
            "linecolor": "white",
            "ticks": ""
           },
           "baxis": {
            "gridcolor": "white",
            "linecolor": "white",
            "ticks": ""
           },
           "bgcolor": "#E5ECF6",
           "caxis": {
            "gridcolor": "white",
            "linecolor": "white",
            "ticks": ""
           }
          },
          "title": {
           "x": 0.05
          },
          "xaxis": {
           "automargin": true,
           "gridcolor": "white",
           "linecolor": "white",
           "ticks": "",
           "title": {
            "standoff": 15
           },
           "zerolinecolor": "white",
           "zerolinewidth": 2
          },
          "yaxis": {
           "automargin": true,
           "gridcolor": "white",
           "linecolor": "white",
           "ticks": "",
           "title": {
            "standoff": 15
           },
           "zerolinecolor": "white",
           "zerolinewidth": 2
          }
         }
        },
        "title": {
         "text": "Michelin Guide Listings by Continent"
        }
       }
      }
     },
     "metadata": {},
     "output_type": "display_data"
    }
   ],
   "source": [
    "import plotly.express as px\n",
    "\n",
    "# Assuming michelin_df has a column named 'Continent'\n",
    "continent_counts = michelin_df['Continent'].value_counts()\n",
    "# Convert Series to DataFrame for easier manipulation\n",
    "continent_counts_df = continent_counts.reset_index()\n",
    "continent_counts_df.columns = ['Continent', 'Listings']\n",
    "\n",
    "# Since Plotly's built-in continent support can be limited, use country ISO codes and aggregate for continents\n",
    "# Mapping continents to one or more representative ISO Alpha-3 country codes for visualization purposes\n",
    "continent_iso_a3 = {\n",
    "    'Europe': ['FRA', 'DEU', 'ITA', 'ESP', 'GBR', 'BEL', 'CHE', 'NLD', 'PRT', 'DNK', 'SWE', 'AUT', 'HRV', 'NOR', 'GRC', 'SVN', 'LUX', 'HUN', 'POL', 'MLT', 'FIN', 'EST', 'LVA', 'ISL', 'CZE', 'SRB', 'AND', 'IRL'],  # Added European countries\n",
    "    'Asia': ['CHN', 'JPN', 'IND', 'THA', 'TWN', 'HKG', 'SGP', 'KOR', 'MYS', 'ARE', 'TUR', 'VNM', 'MAC'],  # Added Asian countries\n",
    "    'North America': ['USA', 'CAN', 'MEX'],  # North America already defined\n",
    "    'South America': ['BRA', 'ARG', 'COL'],  # South America already defined\n",
    "}\n",
    "\n",
    "# Expand the DataFrame to include a row for each ISO code representing a continent\n",
    "expanded_rows = []\n",
    "for index, row in continent_counts_df.iterrows():\n",
    "    for iso in continent_iso_a3.get(row['Continent'], []):\n",
    "        expanded_rows.append({'ISO_A3': iso, 'Listings': row['Listings'], 'Continent': row['Continent']})\n",
    "expanded_df = pd.DataFrame(expanded_rows)\n",
    "\n",
    "# Create a choropleth map using the expanded DataFrame\n",
    "fig = px.choropleth(expanded_df,\n",
    "                    locations=\"ISO_A3\",\n",
    "                    color=\"Listings\",\n",
    "                    hover_name=\"Continent\",\n",
    "                    color_continuous_scale=px.colors.sequential.OrRd)\n",
    "\n",
    "# Update layout for a better view\n",
    "fig.update_layout(\n",
    "    title_text='Michelin Guide Listings by Continent',\n",
    "    geo=dict(\n",
    "        showframe=False,\n",
    "        showcoastlines=False,\n",
    "        projection_type='natural earth',  # More conventional world map projection\n",
    "        showcountries=True,  # Outline the countries\n",
    "        showland=True,  # Show land\n",
    "        countrywidth=0.5,  # Width of country borders\n",
    "        landcolor='lightgrey',  # Color of land\n",
    "        countrycolor='grey',  # Color of country borders\n",
    "        bgcolor='lightblue',  # Set ocean color to blue\n",
    "        lakecolor= 'blue'\n",
    "    ),\n",
    "    margin={\"r\":0,\"t\":50,\"l\":0,\"b\":0}  # Adjust margins to fit the layout\n",
    ")\n",
    "\n",
    "# Show the figure\n",
    "fig.show()\n",
    "\n"
   ]
  },
  {
   "cell_type": "code",
   "execution_count": 13,
   "metadata": {},
   "outputs": [
    {
     "data": {
      "text/plain": [
       "Modern Cuisine              918\n",
       "Creative                    384\n",
       "Japanese                    278\n",
       "Traditional Cuisine         203\n",
       "Street Food                 168\n",
       "French                      135\n",
       "Contemporary                134\n",
       "Italian                     119\n",
       "Cantonese                   115\n",
       "Creative, Modern Cuisine     90\n",
       "Thai                         80\n",
       "Classic Cuisine              78\n",
       "Sushi                        74\n",
       "Noodles                      72\n",
       "Modern French                71\n",
       "Modern British               68\n",
       "Modern Cuisine, Creative     67\n",
       "Seafood                      66\n",
       "Chinese                      57\n",
       "Farm to table                53\n",
       "Name: Cuisine, dtype: int64"
      ]
     },
     "execution_count": 13,
     "metadata": {},
     "output_type": "execute_result"
    }
   ],
   "source": [
    "michelin_df.Cuisine.value_counts()[:20]"
   ]
  },
  {
   "cell_type": "code",
   "execution_count": 14,
   "metadata": {},
   "outputs": [
    {
     "data": {
      "text/plain": [
       "Modern Cuisine           1197\n",
       "Creative                  651\n",
       "Japanese                  362\n",
       "Contemporary              283\n",
       "Traditional Cuisine       259\n",
       "Country cooking           210\n",
       "French                    188\n",
       "Italian                   187\n",
       "Street Food               168\n",
       "Classic Cuisine           139\n",
       "Farm to table             126\n",
       "Modern French             120\n",
       "Cantonese                 116\n",
       "Seafood                   113\n",
       "Mediterranean Cuisine     107\n",
       "Chinese                   104\n",
       "Regional Cuisine          103\n",
       "Thai                       91\n",
       "Sushi                      74\n",
       "Noodles                    73\n",
       "Name: PrimaryCuisine, dtype: int64"
      ]
     },
     "execution_count": 14,
     "metadata": {},
     "output_type": "execute_result"
    }
   ],
   "source": [
    "michelin_df['PrimaryCuisine'] = michelin_df['Cuisine'].str.split(', ').str[0]\n",
    "michelin_df.PrimaryCuisine.value_counts()[:20]"
   ]
  },
  {
   "cell_type": "markdown",
   "metadata": {},
   "source": [
    "---"
   ]
  },
  {
   "cell_type": "code",
   "execution_count": 16,
   "metadata": {},
   "outputs": [
    {
     "name": "stdout",
     "output_type": "stream",
     "text": [
      "{'Foreign credit cards not accepted', 'Car park', 'Notable sake list', 'Cash only', 'Counter dining', 'Booking essential', 'Bring your own bottle', 'Garden or park', 'Great view', 'Reservations not accepted', 'Brunch', 'Interesting wine list', 'Valet parking', 'Wheelchair access', 'Shoes must be removed', 'Restaurant offering vegetarian menus', 'Cash only - lunch', 'Air conditioning', 'Terrace', 'No facility and/or service listed', 'Credit cards not accepted'}\n"
     ]
    }
   ],
   "source": [
    "# Fill NaN values in the 'FacilitiesAndServices' column with an empty string\n",
    "michelin_df['FacilitiesAndServices'] = michelin_df['FacilitiesAndServices'].fillna('No facility and/or service listed')\n",
    "\n",
    "# Initialize an empty set to store facilities and services\n",
    "facilities_and_services = set()\n",
    "\n",
    "# Iterate through each row\n",
    "for index, row in michelin_df.iterrows():\n",
    "    # Check if the value is not NaN\n",
    "    if not pd.isna(row['FacilitiesAndServices']):\n",
    "        # Split the values in the 'FacilitiesAndServices' column by comma\n",
    "        facilities = row['FacilitiesAndServices'].split(',')\n",
    "        # Add each facility or service to the set\n",
    "        for facility in facilities:\n",
    "            facilities_and_services.add(facility.strip())  # Remove leading and trailing whitespace\n",
    "\n",
    "# Print the set of facilities and services\n",
    "print(facilities_and_services)"
   ]
  },
  {
   "cell_type": "code",
   "execution_count": 17,
   "metadata": {},
   "outputs": [
    {
     "name": "stdout",
     "output_type": "stream",
     "text": [
      "Bib Gourmand    21\n",
      "1 Star          13\n",
      "2 Stars          2\n",
      "Name: Award, dtype: int64\n"
     ]
    }
   ],
   "source": [
    "# Filter rows where the 'FacilitiesAndServices' column includes 'Cash only - lunch'\n",
    "lunch_rows = michelin_df[michelin_df['FacilitiesAndServices'].str.contains(\"Cash only - lunch\")]\n",
    "\n",
    "# Display the filtered rows\n",
    "print(lunch_rows['Award'].value_counts())\n"
   ]
  },
  {
   "cell_type": "markdown",
   "metadata": {},
   "source": [
    "---"
   ]
  },
  {
   "cell_type": "code",
   "execution_count": 18,
   "metadata": {},
   "outputs": [
    {
     "data": {
      "text/html": [
       "<div>\n",
       "<style scoped>\n",
       "    .dataframe tbody tr th:only-of-type {\n",
       "        vertical-align: middle;\n",
       "    }\n",
       "\n",
       "    .dataframe tbody tr th {\n",
       "        vertical-align: top;\n",
       "    }\n",
       "\n",
       "    .dataframe thead th {\n",
       "        text-align: right;\n",
       "    }\n",
       "</style>\n",
       "<table border=\"1\" class=\"dataframe\">\n",
       "  <thead>\n",
       "    <tr style=\"text-align: right;\">\n",
       "      <th></th>\n",
       "      <th>Name</th>\n",
       "      <th>Address</th>\n",
       "      <th>Location</th>\n",
       "      <th>Price</th>\n",
       "      <th>Cuisine</th>\n",
       "      <th>Longitude</th>\n",
       "      <th>Latitude</th>\n",
       "      <th>PhoneNumber</th>\n",
       "      <th>Url</th>\n",
       "      <th>WebsiteUrl</th>\n",
       "      <th>Award</th>\n",
       "      <th>FacilitiesAndServices</th>\n",
       "      <th>Description</th>\n",
       "      <th>Country</th>\n",
       "      <th>Continent</th>\n",
       "      <th>PrimaryCuisine</th>\n",
       "    </tr>\n",
       "  </thead>\n",
       "  <tbody>\n",
       "    <tr>\n",
       "      <th>0</th>\n",
       "      <td>L'OSIER</td>\n",
       "      <td>7-5-5 Ginza, Chuo-ku, Tokyo, 104-0061, Japan</td>\n",
       "      <td>Tokyo, Japan</td>\n",
       "      <td>¥¥¥¥</td>\n",
       "      <td>French, Contemporary</td>\n",
       "      <td>139.761203</td>\n",
       "      <td>35.669667</td>\n",
       "      <td>8.133572e+10</td>\n",
       "      <td>https://guide.michelin.com/en/tokyo-region/tok...</td>\n",
       "      <td>https://losier.shiseido.co.jp/</td>\n",
       "      <td>3 Stars</td>\n",
       "      <td>Air conditioning,Car park,Interesting wine list</td>\n",
       "      <td>In 2023 L’OSIER celebrated the 50th anniversar...</td>\n",
       "      <td>Japan</td>\n",
       "      <td>Asia</td>\n",
       "      <td>French</td>\n",
       "    </tr>\n",
       "    <tr>\n",
       "      <th>1</th>\n",
       "      <td>Azabu Kadowaki</td>\n",
       "      <td>2-7-2 Azabujuban, Minato-ku, Tokyo, 106-0045, ...</td>\n",
       "      <td>Tokyo, Japan</td>\n",
       "      <td>¥¥¥¥</td>\n",
       "      <td>Japanese</td>\n",
       "      <td>139.733551</td>\n",
       "      <td>35.655993</td>\n",
       "      <td>8.135772e+10</td>\n",
       "      <td>https://guide.michelin.com/en/tokyo-region/tok...</td>\n",
       "      <td>NaN</td>\n",
       "      <td>3 Stars</td>\n",
       "      <td>Air conditioning,Counter dining</td>\n",
       "      <td>Toshiya Kadowaki’s aim is to serve up “unforge...</td>\n",
       "      <td>Japan</td>\n",
       "      <td>Asia</td>\n",
       "      <td>Japanese</td>\n",
       "    </tr>\n",
       "    <tr>\n",
       "      <th>2</th>\n",
       "      <td>Kohaku</td>\n",
       "      <td>3-4 Kagurazaka, Shinjuku-ku, Tokyo, 162-0825, ...</td>\n",
       "      <td>Tokyo, Japan</td>\n",
       "      <td>¥¥¥¥</td>\n",
       "      <td>Japanese</td>\n",
       "      <td>139.741008</td>\n",
       "      <td>35.700701</td>\n",
       "      <td>8.150314e+11</td>\n",
       "      <td>https://guide.michelin.com/en/tokyo-region/tok...</td>\n",
       "      <td>http://kagurazaka-kohaku.jp/</td>\n",
       "      <td>3 Stars</td>\n",
       "      <td>Air conditioning,Counter dining,Interesting wi...</td>\n",
       "      <td>Koji Koizumi creates a cuisine all his own as ...</td>\n",
       "      <td>Japan</td>\n",
       "      <td>Asia</td>\n",
       "      <td>Japanese</td>\n",
       "    </tr>\n",
       "  </tbody>\n",
       "</table>\n",
       "</div>"
      ],
      "text/plain": [
       "             Name                                            Address  \\\n",
       "0         L'OSIER       7-5-5 Ginza, Chuo-ku, Tokyo, 104-0061, Japan   \n",
       "1  Azabu Kadowaki  2-7-2 Azabujuban, Minato-ku, Tokyo, 106-0045, ...   \n",
       "2          Kohaku  3-4 Kagurazaka, Shinjuku-ku, Tokyo, 162-0825, ...   \n",
       "\n",
       "       Location Price               Cuisine   Longitude   Latitude  \\\n",
       "0  Tokyo, Japan  ¥¥¥¥  French, Contemporary  139.761203  35.669667   \n",
       "1  Tokyo, Japan  ¥¥¥¥              Japanese  139.733551  35.655993   \n",
       "2  Tokyo, Japan  ¥¥¥¥              Japanese  139.741008  35.700701   \n",
       "\n",
       "    PhoneNumber                                                Url  \\\n",
       "0  8.133572e+10  https://guide.michelin.com/en/tokyo-region/tok...   \n",
       "1  8.135772e+10  https://guide.michelin.com/en/tokyo-region/tok...   \n",
       "2  8.150314e+11  https://guide.michelin.com/en/tokyo-region/tok...   \n",
       "\n",
       "                       WebsiteUrl    Award  \\\n",
       "0  https://losier.shiseido.co.jp/  3 Stars   \n",
       "1                             NaN  3 Stars   \n",
       "2    http://kagurazaka-kohaku.jp/  3 Stars   \n",
       "\n",
       "                               FacilitiesAndServices  \\\n",
       "0    Air conditioning,Car park,Interesting wine list   \n",
       "1                    Air conditioning,Counter dining   \n",
       "2  Air conditioning,Counter dining,Interesting wi...   \n",
       "\n",
       "                                         Description Country Continent  \\\n",
       "0  In 2023 L’OSIER celebrated the 50th anniversar...   Japan      Asia   \n",
       "1  Toshiya Kadowaki’s aim is to serve up “unforge...   Japan      Asia   \n",
       "2  Koji Koizumi creates a cuisine all his own as ...   Japan      Asia   \n",
       "\n",
       "  PrimaryCuisine  \n",
       "0         French  \n",
       "1       Japanese  \n",
       "2       Japanese  "
      ]
     },
     "execution_count": 18,
     "metadata": {},
     "output_type": "execute_result"
    }
   ],
   "source": [
    "michelin_df.head(3)"
   ]
  },
  {
   "cell_type": "code",
   "execution_count": 20,
   "metadata": {},
   "outputs": [
    {
     "data": {
      "text/plain": [
       "Index(['France', 'Japan', 'Italy', 'USA', 'Germany', 'Spain', 'United Kingdom',\n",
       "       'Belgium', 'Switzerland', 'China Mainland', 'Thailand', 'Netherlands',\n",
       "       'Taiwan', 'Hong Kong SAR China', 'Singapore', 'South Korea', 'Portugal',\n",
       "       'Canada', 'Malaysia', 'Brazil', 'Denmark', 'United Arab Emirates',\n",
       "       'Türkiye', 'Vietnam', 'Ireland', 'Sweden', 'Austria', 'Croatia',\n",
       "       'Macau SAR China', 'Norway', 'Greece', 'Slovenia', 'Luxembourg',\n",
       "       'Hungary', 'Argentina', 'Poland', 'Malta', 'Finland', 'Estonia',\n",
       "       'Czech Republic', 'Latvia', 'Iceland', 'Serbia', 'Andorra'],\n",
       "      dtype='object')"
      ]
     },
     "execution_count": 20,
     "metadata": {},
     "output_type": "execute_result"
    }
   ],
   "source": [
    "michelin_df.Country.value_counts().index"
   ]
  },
  {
   "cell_type": "code",
   "execution_count": 23,
   "metadata": {},
   "outputs": [
    {
     "name": "stdout",
     "output_type": "stream",
     "text": [
      "France: €3193.52\n",
      "Japan: ¥512176.96\n",
      "Italy: €2726.35\n",
      "USA: $5476.0\n",
      "Germany: €3660.68\n",
      "Spain: €2342.08\n",
      "United Kingdom: £2803.05\n",
      "Belgium: €3620.51\n",
      "Switzerland: CHF6405.12\n",
      "China Mainland: ¥6281.57\n",
      "Thailand: ฿22986.63\n",
      "Netherlands: €4034.77\n",
      "Taiwan: NT$68817.89\n",
      "Hong Kong SAR China: HK$32405.02\n",
      "Singapore: S$7219.88\n",
      "South Korea: ₩3581653.23\n",
      "Portugal: €1816.08\n",
      "Canada: C$5258.24\n",
      "Malaysia: RM4575.54\n",
      "Brazil: R$3703.8\n",
      "Denmark: DKK34762.39\n",
      "United Arab Emirates: AED13190.4\n",
      "Türkiye: ₺24764.03\n",
      "Vietnam: ₫4748062.02\n",
      "Ireland: €6065.61\n",
      "Sweden: SEK47662.34\n",
      "Austria: €3915.63\n",
      "Croatia: €1099.13\n",
      "Macau SAR China: MOP$18778.09\n",
      "Norway: NOK73397.89\n",
      "Greece: €1650.43\n",
      "Slovenia: €1976.78\n",
      "Luxembourg: €8997.94\n",
      "Hungary: Ft485829.96\n",
      "Argentina: ARS$705982.91\n",
      "Poland: zł5284.44\n",
      "Malta: €2600.5\n",
      "Finland: €3802.88\n",
      "Estonia: €1772.43\n",
      "Czech Republic: €1767.34\n",
      "Latvia: €1470.44\n",
      "Iceland: ISK841178.5\n",
      "Serbia: din.66167.7\n",
      "Andorra: €3102.83\n"
     ]
    }
   ],
   "source": [
    "countries = [\n",
    "    'France', 'Japan', 'Italy', 'USA', 'Germany', 'Spain', 'United Kingdom',\n",
    "    'Belgium', 'Switzerland', 'China Mainland', 'Thailand', 'Netherlands',\n",
    "    'Taiwan', 'Hong Kong SAR China', 'Singapore', 'South Korea', 'Portugal',\n",
    "    'Canada', 'Malaysia', 'Brazil', 'Denmark', 'United Arab Emirates',\n",
    "    'Türkiye', 'Vietnam', 'Ireland', 'Sweden', 'Austria', 'Croatia',\n",
    "    'Macau SAR China', 'Norway', 'Greece', 'Slovenia', 'Luxembourg',\n",
    "    'Hungary', 'Argentina', 'Poland', 'Malta', 'Finland', 'Estonia',\n",
    "    'Czech Republic', 'Latvia', 'Iceland', 'Serbia', 'Andorra'\n",
    "]\n",
    "\n",
    "# Mapping countries to their currencies for conversion\n",
    "countries_currencies = [\n",
    "    'EUR', 'JPY', 'EUR', 'USD', 'EUR', 'EUR', 'GBP', \n",
    "    'EUR', 'CHF', 'CNY', 'THB', 'EUR', \n",
    "    'TWD', 'HKD', 'SGD', 'KRW', 'EUR', \n",
    "    'CAD', 'MYR', 'BRL', 'DKK', 'AED', \n",
    "    'TRY', 'VND', 'EUR', 'SEK', 'EUR', 'EUR', \n",
    "    'MOP', 'NOK', 'EUR', 'EUR', 'EUR', \n",
    "    'HUF', 'ARS', 'PLN', 'EUR', 'EUR', 'EUR', \n",
    "    'EUR', 'EUR', 'ISK', 'RSD', 'EUR'\n",
    "]\n",
    "\n",
    "# Currency symbols for printing\n",
    "currency_symbols = {\n",
    "    'EUR': '€', 'JPY': '¥', 'GBP': '£', 'CHF': 'CHF', 'CNY': '¥',\n",
    "    'THB': '฿', 'TWD': 'NT$', 'HKD': 'HK$', 'SGD': 'S$', 'KRW': '₩',\n",
    "    'CAD': 'C$', 'MYR': 'RM', 'BRL': 'R$', 'DKK': 'DKK', 'AED': 'AED',\n",
    "    'TRY': '₺', 'VND': '₫', 'SEK': 'SEK', 'NOK': 'NOK', 'ISK': 'ISK',\n",
    "    'USD': '$', 'PLN': 'zł', 'HUF': 'Ft', 'RSD': 'din.', 'MOP': 'MOP$', 'ARS':'ARS$'\n",
    "}\n",
    "\n",
    "# Approximate annual average incomes in USD (from the previous list)\n",
    "annual_average_incomes_usd = [\n",
    "    41412, 40589, 35354, 65712, 47470, 30371, 42361, 46949, 85582, 10427, \n",
    "    7590, 52321, 25848, 49722, 64184, 31977, 23550, 46363, 11589, 8890, \n",
    "    60439, 43100, 9277, 2450, 78656, 54108, 50776, 14253, 27972, 81905, \n",
    "    21402, 25634, 116681, 15840, 9912, 15848, 33722, 49314, 22984, 22918, \n",
    "    19068, 73233, 7320, 40236\n",
    "]\n",
    "\n",
    "# Monthly incomes (by dividing annual incomes by 12)\n",
    "monthly_incomes_usd = [income / 12 for income in annual_average_incomes_usd]\n",
    "\n",
    "exchange_rates_to_usd = {\n",
    "    'EUR': 1.080627, # Euro zone\n",
    "    'JPY': 0.006604, # Japan\n",
    "    'GBP': 1.259371, # United Kingdom\n",
    "    'CHF': 1.113458, # Switzerland\n",
    "    'CNY': 0.138328, # China Mainland\n",
    "    'THB': 0.027516, # Thailand\n",
    "    'TWD': 0.031300, # Taiwan\n",
    "    'HKD': 0.127866, # Hong Kong SAR China\n",
    "    'SGD': 0.740825, # Singapore\n",
    "    'KRW': 0.000744, # South Korea\n",
    "    'CAD': 0.734767, # Canada\n",
    "    'MYR': 0.211068, # Malaysia\n",
    "    'BRL': 0.200020, # Brazil\n",
    "    'DKK': 0.144886, # Denmark\n",
    "    'AED': 0.272294, # United Arab Emirates\n",
    "    'TRY': 0.031218, # Türkiye\n",
    "    'VND': 0.000043, # Vietnam\n",
    "    'SEK': 0.094603, # Sweden\n",
    "    'NOK': 0.092992, # Norway\n",
    "    'ISK': 0.007255, # Iceland\n",
    "    'USD': 1, # USA and other USD users\n",
    "    'PLN': 0.249916, # Poland\n",
    "    'HUF': 0.002717, # Hungary\n",
    "    'RSD': 0.009219, # Serbia\n",
    "    'MOP': 0.124134, # Macau SAR China\n",
    "    'ARS': 0.001170, # Argentine Peso\n",
    "}\n",
    "\n",
    "# Converting monthly incomes from USD to local currency using exchange rates\n",
    "rounded_monthly_incomes_local = [\n",
    "    round(income_usd / exchange_rates_to_usd[currency], 2)\n",
    "    for income_usd, currency in zip(monthly_incomes_usd, countries_currencies)\n",
    "]\n",
    "\n",
    "# Printing country name and respective local currency monthly average income\n",
    "for country, income, currency in zip(countries, rounded_monthly_incomes_local, countries_currencies):\n",
    "    print(f\"{country}: {currency_symbols[currency]}{income}\")\n"
   ]
  },
  {
   "cell_type": "code",
   "execution_count": 8,
   "metadata": {},
   "outputs": [
    {
     "data": {
      "text/html": [
       "<div>\n",
       "<style scoped>\n",
       "    .dataframe tbody tr th:only-of-type {\n",
       "        vertical-align: middle;\n",
       "    }\n",
       "\n",
       "    .dataframe tbody tr th {\n",
       "        vertical-align: top;\n",
       "    }\n",
       "\n",
       "    .dataframe thead th {\n",
       "        text-align: right;\n",
       "    }\n",
       "</style>\n",
       "<table border=\"1\" class=\"dataframe\">\n",
       "  <thead>\n",
       "    <tr style=\"text-align: right;\">\n",
       "      <th></th>\n",
       "      <th>Name</th>\n",
       "      <th>Address</th>\n",
       "      <th>Location</th>\n",
       "      <th>Price</th>\n",
       "      <th>Cuisine</th>\n",
       "      <th>Longitude</th>\n",
       "      <th>Latitude</th>\n",
       "      <th>PhoneNumber</th>\n",
       "      <th>Url</th>\n",
       "      <th>WebsiteUrl</th>\n",
       "      <th>Award</th>\n",
       "      <th>FacilitiesAndServices</th>\n",
       "      <th>Description</th>\n",
       "      <th>Country</th>\n",
       "    </tr>\n",
       "  </thead>\n",
       "  <tbody>\n",
       "    <tr>\n",
       "      <th>4634</th>\n",
       "      <td>Meiers come inn</td>\n",
       "      <td>Kaffeestrasse 6c, Bülach, 8180, Switzerland</td>\n",
       "      <td>Bülach, Switzerland</td>\n",
       "      <td>NaN</td>\n",
       "      <td>Thai</td>\n",
       "      <td>8.536827</td>\n",
       "      <td>47.513068</td>\n",
       "      <td>4.144860e+10</td>\n",
       "      <td>https://guide.michelin.com/en/zurich-region/bl...</td>\n",
       "      <td>https://www.come-inn.ch/</td>\n",
       "      <td>Bib Gourmand</td>\n",
       "      <td>Air conditioning,Car park,Restaurant offering ...</td>\n",
       "      <td>Slightly off the beaten track, this restaurant...</td>\n",
       "      <td>Switzerland</td>\n",
       "    </tr>\n",
       "    <tr>\n",
       "      <th>6761</th>\n",
       "      <td>Nit</td>\n",
       "      <td>Rua Oscar Freire 145, São Paulo, 01409-003, Br...</td>\n",
       "      <td>São Paulo, Brazil</td>\n",
       "      <td>NaN</td>\n",
       "      <td>Spanish</td>\n",
       "      <td>-46.663807</td>\n",
       "      <td>-23.567758</td>\n",
       "      <td>5.511354e+11</td>\n",
       "      <td>https://guide.michelin.com/en/sao-paulo-region...</td>\n",
       "      <td>https://www.restaurantetanit.com.br/cardapios-nit</td>\n",
       "      <td>Bib Gourmand</td>\n",
       "      <td>Air conditioning</td>\n",
       "      <td>The most informal and fun of Catalan chef, Osc...</td>\n",
       "      <td>Brazil</td>\n",
       "    </tr>\n",
       "  </tbody>\n",
       "</table>\n",
       "</div>"
      ],
      "text/plain": [
       "                 Name                                            Address  \\\n",
       "4634  Meiers come inn        Kaffeestrasse 6c, Bülach, 8180, Switzerland   \n",
       "6761              Nit  Rua Oscar Freire 145, São Paulo, 01409-003, Br...   \n",
       "\n",
       "                 Location Price  Cuisine  Longitude   Latitude   PhoneNumber  \\\n",
       "4634  Bülach, Switzerland   NaN     Thai   8.536827  47.513068  4.144860e+10   \n",
       "6761    São Paulo, Brazil   NaN  Spanish -46.663807 -23.567758  5.511354e+11   \n",
       "\n",
       "                                                    Url  \\\n",
       "4634  https://guide.michelin.com/en/zurich-region/bl...   \n",
       "6761  https://guide.michelin.com/en/sao-paulo-region...   \n",
       "\n",
       "                                             WebsiteUrl         Award  \\\n",
       "4634                           https://www.come-inn.ch/  Bib Gourmand   \n",
       "6761  https://www.restaurantetanit.com.br/cardapios-nit  Bib Gourmand   \n",
       "\n",
       "                                  FacilitiesAndServices  \\\n",
       "4634  Air conditioning,Car park,Restaurant offering ...   \n",
       "6761                                   Air conditioning   \n",
       "\n",
       "                                            Description      Country  \n",
       "4634  Slightly off the beaten track, this restaurant...  Switzerland  \n",
       "6761  The most informal and fun of Catalan chef, Osc...       Brazil  "
      ]
     },
     "execution_count": 8,
     "metadata": {},
     "output_type": "execute_result"
    }
   ],
   "source": [
    "michelin_df[michelin_df[\"Price\"].isna()]"
   ]
  },
  {
   "cell_type": "code",
   "execution_count": 9,
   "metadata": {},
   "outputs": [
    {
     "data": {
      "text/plain": [
       "[4634, 6761]"
      ]
     },
     "execution_count": 9,
     "metadata": {},
     "output_type": "execute_result"
    }
   ],
   "source": [
    "na_price_indices = michelin_df[michelin_df['Price'].isna()].index.tolist()\n",
    "na_price_indices"
   ]
  },
  {
   "cell_type": "code",
   "execution_count": 10,
   "metadata": {},
   "outputs": [],
   "source": [
    "# Fill these indices with a 'Price' of 100\n",
    "michelin_df.loc[4634, 'Price'] = \"$$\"\n",
    "michelin_df.loc[6761, 'Price'] = \"$$$\""
   ]
  },
  {
   "cell_type": "code",
   "execution_count": 18,
   "metadata": {},
   "outputs": [
    {
     "data": {
      "text/plain": [
       "€€€€    1387\n",
       "€€      1339\n",
       "€€€      798\n",
       "$$       572\n",
       "$$$$     336\n",
       "¥¥¥      330\n",
       "€        307\n",
       "¥¥       268\n",
       "$        267\n",
       "¥        201\n",
       "¥¥¥¥     176\n",
       "$$$      145\n",
       "฿฿       115\n",
       "££££     114\n",
       "££        98\n",
       "฿         81\n",
       "£££       59\n",
       "₩         49\n",
       "₩₩₩₩      26\n",
       "₫         25\n",
       "Name: Price, dtype: int64"
      ]
     },
     "execution_count": 18,
     "metadata": {},
     "output_type": "execute_result"
    }
   ],
   "source": [
    "michelin_df[\"Price\"].value_counts()[:20]"
   ]
  },
  {
   "cell_type": "markdown",
   "metadata": {},
   "source": [
    "---"
   ]
  }
 ],
 "metadata": {
  "kernelspec": {
   "display_name": "Python 3.9.7 ('adaexam')",
   "language": "python",
   "name": "python3"
  },
  "language_info": {
   "codemirror_mode": {
    "name": "ipython",
    "version": 3
   },
   "file_extension": ".py",
   "mimetype": "text/x-python",
   "name": "python",
   "nbconvert_exporter": "python",
   "pygments_lexer": "ipython3",
   "version": "3.9.7"
  },
  "orig_nbformat": 4,
  "vscode": {
   "interpreter": {
    "hash": "ac2ffbe8dbb59a1c60c0e2eb623ef477230c259ce7849da2c0462993ab434221"
   }
  }
 },
 "nbformat": 4,
 "nbformat_minor": 2
}
